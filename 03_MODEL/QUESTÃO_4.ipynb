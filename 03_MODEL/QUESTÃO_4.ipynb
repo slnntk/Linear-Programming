{
  "nbformat": 4,
  "nbformat_minor": 0,
  "metadata": {
    "colab": {
      "provenance": []
    },
    "kernelspec": {
      "name": "python3",
      "display_name": "Python 3"
    },
    "language_info": {
      "name": "python"
    }
  },
  "cells": [
    {
      "cell_type": "markdown",
      "source": [
        "* Exerccio 4 Uma re naria produz 3 tipos de gasolina: verde, azul e co\n",
        "mum. Cada tipo requer gasolina pura, octana e aditivo, disponibilizadas nas\n",
        " quantidades 9.000, 4.800 e 2.200 litros por semana, respectivamente. As\n",
        " especi cacoes de cada tipo sao:\n",
        " • um litro de gasolina verde requer 0,22 litro de gasolina pura, 0,50 litro\n",
        " de octana e 0,28 litro de aditivo;\n",
        " • um litro de gasolina azul requer 0,52 litro de gasolina pura, 0,34 litro\n",
        " de octana e 0,14 litro de aditivo;\n",
        " • um litro de gasolina comum requer 0,74 litro de gasolina pura, 0,20\n",
        " litro de octana e 0,06 litro de aditivo.\n",
        " A quantidade de gasolina comum deve ser no mnimo 16 vezes a quantidade\n",
        " de gasolina verde, e a quantidade de gasolina azul deve ser no maximo 600\n",
        " litros por semana. A empresa sabe que cada litro de gasolina verde, azul e\n",
        " comum da um lucro de R$$0,30, R$0,25 e R$0,20, respectivamente. Sabendo\n",
        " disso, elabore um modelo que maximiza o lucro total da empresa*"
      ],
      "metadata": {
        "id": "3f-ShJa43OuE"
      }
    },
    {
      "cell_type": "code",
      "execution_count": 1,
      "metadata": {
        "id": "HNAhaW12uLJv",
        "collapsed": true,
        "colab": {
          "base_uri": "https://localhost:8080/"
        },
        "outputId": "0991b42f-2a2a-4686-c081-bd6dfc678eac"
      },
      "outputs": [
        {
          "output_type": "stream",
          "name": "stdout",
          "text": [
            "Requirement already satisfied: ortools in /usr/local/lib/python3.10/dist-packages (9.10.4067)\n",
            "Requirement already satisfied: absl-py>=2.0.0 in /usr/local/lib/python3.10/dist-packages (from ortools) (2.1.0)\n",
            "Requirement already satisfied: numpy>=1.13.3 in /usr/local/lib/python3.10/dist-packages (from ortools) (1.26.4)\n",
            "Requirement already satisfied: pandas>=2.0.0 in /usr/local/lib/python3.10/dist-packages (from ortools) (2.1.4)\n",
            "Requirement already satisfied: protobuf>=5.26.1 in /usr/local/lib/python3.10/dist-packages (from ortools) (5.27.3)\n",
            "Requirement already satisfied: immutabledict>=3.0.0 in /usr/local/lib/python3.10/dist-packages (from ortools) (4.2.0)\n",
            "Requirement already satisfied: python-dateutil>=2.8.2 in /usr/local/lib/python3.10/dist-packages (from pandas>=2.0.0->ortools) (2.8.2)\n",
            "Requirement already satisfied: pytz>=2020.1 in /usr/local/lib/python3.10/dist-packages (from pandas>=2.0.0->ortools) (2024.1)\n",
            "Requirement already satisfied: tzdata>=2022.1 in /usr/local/lib/python3.10/dist-packages (from pandas>=2.0.0->ortools) (2024.1)\n",
            "Requirement already satisfied: six>=1.5 in /usr/local/lib/python3.10/dist-packages (from python-dateutil>=2.8.2->pandas>=2.0.0->ortools) (1.16.0)\n"
          ]
        }
      ],
      "source": [
        "!pip install ortools"
      ]
    },
    {
      "cell_type": "code",
      "source": [
        "from ortools.linear_solver import pywraplp"
      ],
      "metadata": {
        "id": "yP9mJieAucrN"
      },
      "execution_count": 2,
      "outputs": []
    },
    {
      "cell_type": "code",
      "source": [
        "# declara o solver: se PLI, usa-se SCIP; se PL, usa-se GLOP.\n",
        "solver = pywraplp.Solver.CreateSolver('GLOP')\n",
        "\n",
        "# declara um número muito grande caso seja necessário usar no modelo\n",
        "infinity = solver.infinity()"
      ],
      "metadata": {
        "id": "MsHF9kqcuc2V"
      },
      "execution_count": 3,
      "outputs": []
    },
    {
      "cell_type": "code",
      "source": [
        "# declara as variáveis do modelo: IntVar para inteira; NumVar para fracionárias; BoolVar para binárias.\n",
        "x1 = solver.NumVar(0, infinity, 'x1')     # quantidade de listros de gasolina verde\n",
        "x2 = solver.NumVar(0, 600, 'x2')     # quantidade de listros de gasolina azul\n",
        "x3 = solver.NumVar(0, infinity, 'x3')     # quantidade de listros de gasolina comum\n",
        "\n",
        "# solver.IntVar(rangeMinimo, rangeMaximo, 'nome')\n",
        "\n",
        "# x3 = solver.NumVar(0,0, infinity, 'x3')\n",
        "# x4 = solver.BoolVar('x3')"
      ],
      "metadata": {
        "id": "qOebGhkbuc9h"
      },
      "execution_count": 4,
      "outputs": []
    },
    {
      "cell_type": "code",
      "source": [
        "# declara a função objetivo\n",
        "# 0,30.x1+0,25.x2+0,20.x3\n",
        "objetivo = solver.Objective()\n",
        "objetivo.SetCoefficient(x1, 0.30) # 0,30.x1\n",
        "objetivo.SetCoefficient(x2, 0.25) # 0,25.x2\n",
        "objetivo.SetCoefficient(x3, 0.20) # 0,20.x3\n",
        "objetivo.SetMaximization()                # SetMinimization para minimização"
      ],
      "metadata": {
        "id": "rV8GeQkuudFr"
      },
      "execution_count": 5,
      "outputs": []
    },
    {
      "cell_type": "code",
      "source": [
        "# declara uma restrição\n",
        "# 0,22.x1 + 0,52.x2 + 0,74.x3 <= 9000\n",
        "restricao_1 = solver.RowConstraint(-infinity, 9000, 'restricao_1') # infinito <= 9000      # colocar um nome para a restrição é opcional\n",
        "restricao_1.SetCoefficient(x1, 0.22)  # 0,22.x1\n",
        "restricao_1.SetCoefficient(x2, 0.52)  # 0,52.x2\n",
        "restricao_1.SetCoefficient(x3, 0.74)  # 0,14.x3"
      ],
      "metadata": {
        "id": "WOt3OE9IAJYy"
      },
      "execution_count": 6,
      "outputs": []
    },
    {
      "cell_type": "code",
      "source": [
        "# declara uma restrição\n",
        "# 0,50.x1 + 0,34.x2 + 0,20.x3 <= 4800\n",
        "restricao_2 = solver.RowConstraint(-infinity, 4800, 'restricao_2') # infinito <= 4800      # colocar um nome para a restrição é opcional\n",
        "restricao_2.SetCoefficient(x1, 0.50)  # 0,50.x1\n",
        "restricao_2.SetCoefficient(x2, 0.34)  # 0,34.x2\n",
        "restricao_2.SetCoefficient(x3, 0.20)  # 0,20.x3"
      ],
      "metadata": {
        "id": "jP_cMfkMAJfz"
      },
      "execution_count": 7,
      "outputs": []
    },
    {
      "cell_type": "code",
      "source": [
        "# declara uma restrição\n",
        "# 0,28.x1 + 0,14.x2 + 0,06.x3 <= 2200\n",
        "restricao_3 = solver.RowConstraint(-infinity, 2200, 'restricao_3') # infinito <= 2200      # colocar um nome para a restrição é opcional\n",
        "restricao_3.SetCoefficient(x1, 0.28)  # 0,28.x1\n",
        "restricao_3.SetCoefficient(x2, 0.14)  # 0,14.x2\n",
        "restricao_3.SetCoefficient(x3, 0.06)  # 0,06.x3"
      ],
      "metadata": {
        "id": "c2x2ZtC43yez"
      },
      "execution_count": 8,
      "outputs": []
    },
    {
      "cell_type": "code",
      "source": [
        "# declara uma restrição\n",
        "# x3 >= 16 * x1\n",
        "restricao_4 = solver.RowConstraint(0, +infinity, 'restricao_4') # infinito <= 2200      # colocar um nome para a restrição é opcional\n",
        "restricao_4.SetCoefficient(x3, 1)  # x3\n",
        "restricao_4.SetCoefficient(x1, -16)  # -16 * x1"
      ],
      "metadata": {
        "id": "u_D0KDjdOVln"
      },
      "execution_count": 9,
      "outputs": []
    },
    {
      "cell_type": "code",
      "source": [
        "# resolve o modelo\n",
        "status = solver.Solve()"
      ],
      "metadata": {
        "id": "JDqAKfqYAhHY"
      },
      "execution_count": 10,
      "outputs": []
    },
    {
      "cell_type": "code",
      "source": [
        "# verifica se a solução é ótima e, caso seja, exibe ela\n",
        "if status == pywraplp.Solver.OPTIMAL:\n",
        "  print('Lucro:', objetivo.Value())\n",
        "  print(x1.name(), x1.solution_value())\n",
        "  print(x2.name(), x2.solution_value())\n",
        "  print(x3.name(), x3.solution_value())\n",
        "else:\n",
        "  print('Modelo sem solução ótima.')"
      ],
      "metadata": {
        "id": "SbmGtghg3Fd6",
        "colab": {
          "base_uri": "https://localhost:8080/"
        },
        "outputId": "1b6c819c-40a3-4254-ba98-612fb61561df"
      },
      "execution_count": 11,
      "outputs": [
        {
          "output_type": "stream",
          "name": "stdout",
          "text": [
            "Lucro: 2671.3930348258705\n",
            "x1 720.3980099502487\n",
            "x2 600.0\n",
            "x3 11526.36815920398\n"
          ]
        }
      ]
    },
    {
      "cell_type": "code",
      "source": [
        "# exibe o modelo\n",
        "print(solver.ExportModelAsLpFormat(False))"
      ],
      "metadata": {
        "id": "qw-3WYtEAvRa",
        "colab": {
          "base_uri": "https://localhost:8080/"
        },
        "outputId": "2e30e7ae-2203-4c7b-8c8e-02c7ef22156c"
      },
      "execution_count": 12,
      "outputs": [
        {
          "output_type": "stream",
          "name": "stdout",
          "text": [
            "\\ Generated by MPModelProtoExporter\n",
            "\\   Name             : \n",
            "\\   Format           : Free\n",
            "\\   Constraints      : 4\n",
            "\\   Variables        : 3\n",
            "\\     Binary         : 0\n",
            "\\     Integer        : 0\n",
            "\\     Continuous     : 3\n",
            "Maximize\n",
            " Obj: +0.3 x1 +0.25 x2 +0.2 x3 \n",
            "Subject to\n",
            " restricao_1: +0.22 x1 +0.52 x2 +0.74 x3  <= 9000\n",
            " restricao_2: +0.5 x1 +0.34 x2 +0.2 x3  <= 4800\n",
            " restricao_3: +0.28 x1 +0.14 x2 +0.06 x3  <= 2200\n",
            " restricao_4: -16 x1 +1 x3  >= 0\n",
            "Bounds\n",
            " 0 <= x1\n",
            " 0 <= x2 <= 600\n",
            " 0 <= x3\n",
            "End\n",
            "\n"
          ]
        }
      ]
    }
  ]
}