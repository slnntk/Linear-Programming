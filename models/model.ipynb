{
 "cells": [
  {
   "metadata": {},
   "cell_type": "code",
   "outputs": [],
   "execution_count": null,
   "source": "!pip install ortools",
   "id": "30a0cb88bc1a43d7"
  },
  {
   "metadata": {},
   "cell_type": "code",
   "outputs": [],
   "execution_count": null,
   "source": "from ortools.linear_solver import pywraplp",
   "id": "9305526bfcc9bbf5"
  },
  {
   "metadata": {},
   "cell_type": "code",
   "outputs": [],
   "execution_count": null,
   "source": [
    "# Criação do solver\n",
    "solver = pywraplp.Solver.CreateSolver('GLOP')"
   ],
   "id": "39a3471fdf4e663"
  },
  {
   "metadata": {},
   "cell_type": "code",
   "outputs": [],
   "execution_count": null,
   "source": [
    "# Definição das variáveis\n",
    "x1 = solver.NumVar(0, solver.infinity(), 'x1')  # Variável 1\n",
    "x2 = solver.NumVar(0, solver.infinity(), 'x2')  # Variável 2\n",
    "x3 = solver.NumVar(0, solver.infinity(), 'x3')  # Variável 3"
   ],
   "id": "e94cde461367f95e"
  },
  {
   "metadata": {},
   "cell_type": "code",
   "outputs": [],
   "execution_count": null,
   "source": [
    "# Definição da função objetivo\n",
    "# Exemplo: Maximizar Z = c1*x1 + c2*x2 + c3*x3\n",
    "c1 = 0.30  # Coeficiente para x1\n",
    "c2 = 0.25  # Coeficiente para x2\n",
    "c3 = 0.20  # Coeficiente para x3\n",
    "objetivo = solver.Objective()\n",
    "objetivo.SetCoefficient(x1, c1)\n",
    "objetivo.SetCoefficient(x2, c2)\n",
    "objetivo.SetCoefficient(x3, c3)\n",
    "objetivo.SetMaximization()  # Para maximizar; use SetMinimization() para minimizar"
   ],
   "id": "cb8dc80d784afe42"
  },
  {
   "metadata": {},
   "cell_type": "code",
   "outputs": [],
   "execution_count": null,
   "source": [
    "# Definição das restrições\n",
    "# Exemplo de restrições: a1*x1 + a2*x2 + a3*x3 <= limite\n",
    "a1 = 0.22  # Coeficiente para x1 na restrição 1\n",
    "a2 = 0.50  # Coeficiente para x2 na restrição 1\n",
    "a3 = 0.28  # Coeficiente para x3 na restrição 1\n",
    "limite1 = 9000  # Limite da restrição 1\n",
    "solver.Add(a1 * x1 + a2 * x2 + a3 * x3 <= limite1)"
   ],
   "id": "14871567e6c3e0fe"
  },
  {
   "metadata": {},
   "cell_type": "code",
   "outputs": [],
   "execution_count": null,
   "source": [
    "# Outra restrição\n",
    "b1 = 0.50  # Coeficiente para x1 na restrição 2\n",
    "b2 = 0.34  # Coeficiente para x2 na restrição 2\n",
    "b3 = 0.20  # Coeficiente para x3 na restrição 2\n",
    "limite2 = 4800  # Limite da restrição 2\n",
    "solver.Add(b1 * x1 + b2 * x2 + b3 * x3 <= limite2)"
   ],
   "id": "8e975baabda5c69f"
  },
  {
   "metadata": {},
   "cell_type": "code",
   "outputs": [],
   "execution_count": null,
   "source": [
    "# Exemplo de uma restrição de relação entre variáveis\n",
    "k = 16  # Coeficiente para a relação entre x3 e x1\n",
    "solver.Add(x3 >= k * x1)  # x3 deve ser no mínimo 16 vezes x1"
   ],
   "id": "2dfb8ec1c56d11f1"
  },
  {
   "metadata": {},
   "cell_type": "code",
   "outputs": [],
   "execution_count": null,
   "source": [
    "# Exemplo de limite superior para x2\n",
    "limite_superior = 600  # Limite superior para x2\n",
    "solver.Add(x2 <= limite_superior)"
   ],
   "id": "cc9cf9a90ac77a8d"
  },
  {
   "metadata": {
    "collapsed": true
   },
   "cell_type": "code",
   "outputs": [],
   "execution_count": null,
   "source": [
    "# Resolver o problema\n",
    "status = solver.Solve()\n",
    "\n",
    "# Verificando os resultados\n",
    "if status == pywraplp.Solver.OPTIMAL:\n",
    "    print('Solução ótima encontrada:')\n",
    "    print(f'x1: {x1.solution_value()} litros')\n",
    "    print(f'x2: {x2.solution_value()} litros')\n",
    "    print(f'x3: {x3.solution_value()} litros')\n",
    "    print(f'Lucro total: R${objetivo.Value():.2f}')\n",
    "else:\n",
    "    print('Não foi encontrada uma solução ótima.')\n"
   ],
   "id": "initial_id"
  }
 ],
 "metadata": {
  "kernelspec": {
   "display_name": "Python 3",
   "language": "python",
   "name": "python3"
  },
  "language_info": {
   "codemirror_mode": {
    "name": "ipython",
    "version": 2
   },
   "file_extension": ".py",
   "mimetype": "text/x-python",
   "name": "python",
   "nbconvert_exporter": "python",
   "pygments_lexer": "ipython2",
   "version": "2.7.6"
  }
 },
 "nbformat": 4,
 "nbformat_minor": 5
}
