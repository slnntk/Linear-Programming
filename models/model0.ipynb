{
 "cells": [
  {
   "metadata": {},
   "cell_type": "code",
   "outputs": [],
   "execution_count": null,
   "source": "!pip install ortools",
   "id": "ebd25b9e5fb3d978"
  },
  {
   "metadata": {},
   "cell_type": "code",
   "outputs": [],
   "execution_count": null,
   "source": "from ortools.linear_solver import pywraplp",
   "id": "ddac42273c81ef76"
  },
  {
   "metadata": {},
   "cell_type": "code",
   "outputs": [],
   "execution_count": null,
   "source": [
    "# Criação do solver\n",
    "solver = pywraplp.Solver.CreateSolver('GLOP')"
   ],
   "id": "74ac7e12decbdc4a"
  },
  {
   "metadata": {},
   "cell_type": "code",
   "outputs": [],
   "execution_count": null,
   "source": [
    "# Definição das variáveis\n",
    "# Substitua 'variavel1', 'variavel2', ... pelos nomes e limites apropriados\n",
    "variavel1 = solver.NumVar(0, solver.infinity(), 'variavel1')  # Exemplo: 0 <= x1 <= ∞\n",
    "variavel2 = solver.NumVar(0, solver.infinity(), 'variavel2')  # Exemplo: 0 <= x2 <= ∞\n",
    "variavel3 = solver.NumVar(0, solver.infinity(), 'variavel3')  # Exemplo: 0 <= x3 <= ∞"
   ],
   "id": "1334b2dbe323e0b6"
  },
  {
   "metadata": {},
   "cell_type": "code",
   "outputs": [],
   "execution_count": null,
   "source": [
    "# Definição da função objetivo\n",
    "# Exemplo: Maximizar Z = c1*x1 + c2*x2 + c3*x3\n",
    "objetivo = solver.Objective()\n",
    "objetivo.SetCoefficient(variavel1, c1)  # Substitua c1 pelo coeficiente desejado\n",
    "objetivo.SetCoefficient(variavel2, c2)  # Substitua c2 pelo coeficiente desejado\n",
    "objetivo.SetCoefficient(variavel3, c3)  # Substitua c3 pelo coeficiente desejado\n",
    "objetivo.SetMaximization()                # Para maximizar; use SetMinimization() para minimizar"
   ],
   "id": "681f46d64ae05bdd"
  },
  {
   "metadata": {},
   "cell_type": "code",
   "outputs": [],
   "execution_count": null,
   "source": [
    "# Definição das restrições\n",
    "# Adicione restrições conforme necessário\n",
    "# Exemplo: a1*x1 + a2*x2 + a3*x3 <= limite\n",
    "solver.Add(a1 * variavel1 + a2 * variavel2 + a3 * variavel3 <= limite)  # Restrição 1"
   ],
   "id": "2c777f669fb54c81"
  },
  {
   "metadata": {},
   "cell_type": "code",
   "outputs": [],
   "execution_count": null,
   "source": [
    "# Exemplo de outra restrição\n",
    "solver.Add(b1 * variavel1 + b2 * variavel2 + b3 * variavel3 <= limite2)  # Restrição 2"
   ],
   "id": "cd6ab9df7af31a4c"
  },
  {
   "metadata": {},
   "cell_type": "code",
   "outputs": [],
   "execution_count": null,
   "source": [
    "# Exemplo de restrição de relação entre variáveis\n",
    "solver.Add(variavel3 >= k * variavel1)  # Restrição de relação"
   ],
   "id": "376f6656d81ec366"
  },
  {
   "metadata": {},
   "cell_type": "code",
   "outputs": [],
   "execution_count": null,
   "source": [
    "# Exemplo de restrição de limite superior\n",
    "solver.Add(variavel2 <= limite_superior)  # Limite superior para variavel2"
   ],
   "id": "d18a5a8d859c443e"
  },
  {
   "metadata": {
    "collapsed": true
   },
   "cell_type": "code",
   "outputs": [],
   "execution_count": null,
   "source": [
    "# Resolver o problema\n",
    "status = solver.Solve()\n",
    "\n",
    "# Verificando os resultados\n",
    "if status == pywraplp.Solver.OPTIMAL:\n",
    "    print('Solução ótima encontrada:')\n",
    "    print(f'variavel1: {variavel1.solution_value()}')\n",
    "    print(f'variavel2: {variavel2.solution_value()}')\n",
    "    print(f'variavel3: {variavel3.solution_value()}')\n",
    "    print(f'Lucro total: R${objetivo.Value():.2f}')\n",
    "else:\n",
    "    print('Não foi encontrada uma solução ótima.')\n"
   ],
   "id": "initial_id"
  }
 ],
 "metadata": {
  "kernelspec": {
   "display_name": "Python 3",
   "language": "python",
   "name": "python3"
  },
  "language_info": {
   "codemirror_mode": {
    "name": "ipython",
    "version": 2
   },
   "file_extension": ".py",
   "mimetype": "text/x-python",
   "name": "python",
   "nbconvert_exporter": "python",
   "pygments_lexer": "ipython2",
   "version": "2.7.6"
  }
 },
 "nbformat": 4,
 "nbformat_minor": 5
}
